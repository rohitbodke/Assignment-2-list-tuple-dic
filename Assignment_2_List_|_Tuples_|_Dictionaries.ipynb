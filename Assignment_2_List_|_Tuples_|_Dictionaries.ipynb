{
  "nbformat": 4,
  "nbformat_minor": 0,
  "metadata": {
    "colab": {
      "provenance": [],
      "authorship_tag": "ABX9TyMQDc3TLkHsjW7hDrNCMT02",
      "include_colab_link": true
    },
    "kernelspec": {
      "name": "python3",
      "display_name": "Python 3"
    },
    "language_info": {
      "name": "python"
    }
  },
  "cells": [
    {
      "cell_type": "markdown",
      "metadata": {
        "id": "view-in-github",
        "colab_type": "text"
      },
      "source": [
        "<a href=\"https://colab.research.google.com/github/rohitbodke/Assignment-2-list-tuple-dic/blob/main/Assignment_2_List_%7C_Tuples_%7C_Dictionaries.ipynb\" target=\"_parent\"><img src=\"https://colab.research.google.com/assets/colab-badge.svg\" alt=\"Open In Colab\"/></a>"
      ]
    },
    {
      "cell_type": "code",
      "execution_count": 1,
      "metadata": {
        "colab": {
          "base_uri": "https://localhost:8080/"
        },
        "id": "xdxySZdNucXW",
        "outputId": "dafda5c1-3b7b-49c1-abd9-4f494185c347"
      },
      "outputs": [
        {
          "output_type": "stream",
          "name": "stdout",
          "text": [
            "sorted\n",
            "[(2, 1), (1, 2), (2, 3), (4, 4), (2, 5)]\n"
          ]
        }
      ],
      "source": [
        "def last(n):\n",
        "  return n[-1]\n",
        "def sort(a):\n",
        "  return sorted(a,key=last)\n",
        "\n",
        "a = [(2,5),(1,2),(4,4),(2,3),(2,1)]\n",
        "print(\"sorted\")\n",
        "print(sort(a))"
      ]
    }
  ]
}